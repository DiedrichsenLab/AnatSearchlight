{
 "cells": [
  {
   "cell_type": "markdown",
   "id": "5ce97562",
   "metadata": {},
   "source": [
    "## Example of a volume-based searchlight"
   ]
  },
  {
   "cell_type": "code",
   "execution_count": null,
   "id": "d9b85a3b",
   "metadata": {},
   "outputs": [],
   "source": [
    "import AnatSearchlight.searchlight as sl\n",
    "import numpy as np\n",
    "import nibabel as nib"
   ]
  },
  {
   "cell_type": "markdown",
   "id": "620c36fa",
   "metadata": {},
   "source": [
    "To define a searchlight we need:\n",
    "\n",
    "* a functional mask image (`mask.nii` from the GLM) which specifies the voxels availabe for searchlight analysis.\n",
    "\n",
    "You can define the searchlight using either:\n",
    "* a specific radius in mm, or \n",
    "* a specific number of voxels. \n",
    "\n",
    "To specify only one of these parameters, set the other to `np.inf`. \n"
   ]
  },
  {
   "cell_type": "code",
   "execution_count": null,
   "id": "bcc6ef85",
   "metadata": {},
   "outputs": [],
   "source": [
    "# Give it an appropriate structure name: Used for generating nifti-files for output\n",
    "mySearchlight = sl.SearchlightSurface('cerebellum')\n",
    "# This is the mask image for the functional data space\n",
    "voxel_mask = 'example_data/mask.nii'\n",
    "\n",
    "# Here we defining\n",
    "mySearchlight.define(voxel_mask,maxradius=10,maxvoxels=np.inf)\n",
    "mySearchlight.save('example_data/searchlight_volume.h5')"
   ]
  },
  {
   "cell_type": "markdown",
   "id": "fa90c25c",
   "metadata": {},
   "source": [
    "You can now load the pre-computed searchlight to inspect its properties."
   ]
  },
  {
   "cell_type": "code",
   "execution_count": null,
   "id": "c8074c67",
   "metadata": {},
   "outputs": [],
   "source": [
    "# Here we wish to inspect the average radius and average number of voxels in each center\n",
    "mySearchlight = sl.load('searchlight_volume.h5')\n",
    "print(f'Average size of the searchlight: {mySearchlight.radius.mean():.1f} mm')\n",
    "print(f'Average number of voxels: {mySearchlight.nvoxels.mean():.1f}')"
   ]
  },
  {
   "cell_type": "markdown",
   "id": "7d3e0329",
   "metadata": {},
   "source": [
    "To run a searchlight we need:\n",
    "\n",
    "* an MVPA function\n",
    "* datafiles\n",
    "\n",
    "The searchlight will calculate the MVPA function on data from datafiles in each center defined in `mySearchlight`.\n"
   ]
  },
  {
   "cell_type": "code",
   "execution_count": null,
   "id": "32dbd891",
   "metadata": {},
   "outputs": [],
   "source": [
    "# Here we use simple example that calculate the mean activity in the searchlight region.\n",
    "# The MVPA functions take a `n_images x n_voxels` array as input and return either a scalar or vector as output\n",
    "\n",
    "def mvpa_mean_function(data):\n",
    "    # Example of MVPA function that returns a scalar as an output argument\n",
    "    return np.mean(data)\n",
    "\n",
    "def mvpa_multi_function(data):\n",
    "    # Example of MVPA function that returns a vector as an output argument\n",
    "    return np.mean(data,axis=1)\n"
   ]
  },
  {
   "cell_type": "code",
   "execution_count": null,
   "id": "b48fa723",
   "metadata": {},
   "outputs": [],
   "source": [
    "## Run the searchlight with the defined scalar MVPA function\n",
    "datafiles = [f\"sub-02_ses-s1_run-01_reg-{s:02d}_beta.nii\" for s in range(5)]\n",
    "results = mySearchlight.run(datafiles, mvpa_mean_function,verbose=False)\n",
    "mySearchlight.data_to_nifti(results,outfilename='output_scalar.nii')"
   ]
  },
  {
   "cell_type": "code",
   "execution_count": null,
   "id": "ccdafd87",
   "metadata": {},
   "outputs": [],
   "source": [
    "## Run the searchlight with the defined scalar vector function\n",
    "datafiles = [f\"sub-02_ses-s1_run-01_reg-{s:02d}_beta.nii\" for s in range(5)]\n",
    "results = mySearchlight.run(datafiles, mvpa_multi_function,verbose=False)\n",
    "mySearchlight.data_to_nifti(results,outfilename='output_vector.nii')"
   ]
  }
 ],
 "metadata": {
  "language_info": {
   "name": "python"
  }
 },
 "nbformat": 4,
 "nbformat_minor": 5
}
