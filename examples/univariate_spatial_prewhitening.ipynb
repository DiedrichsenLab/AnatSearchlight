{
 "cells": [
  {
   "cell_type": "markdown",
   "id": "697c9af7",
   "metadata": {
    "collapsed": false,
    "jupyter": {
     "outputs_hidden": false
    }
   },
   "source": [
    "## Univariate spatial prewhitening using ResMS.nii\n",
    "\n",
    "This Jupyter Noteboox shows how to perform univariate spatial prewhitening of general linear model (GLM) coefficients (i.e., betas) using the residual mean squares (ResMS) output by the statistical parametric modelling (SPM) toolbox after GLM estimation. In multivariate fMRI analysis, this step allows to take into account that individual voxels are affected by different levels of noise (see Walther et al., 2016). "
   ]
  },
  {
   "cell_type": "code",
   "execution_count": 49,
   "id": "31083f27-bce4-414c-9e68-1b9949b5ee50",
   "metadata": {
    "ExecuteTime": {
     "end_time": "2024-05-19T02:13:23.247149Z",
     "start_time": "2024-05-19T02:13:23.245012Z"
    }
   },
   "outputs": [],
   "source": [
    "# relevant imports\n",
    "import numpy as np\n",
    "import rsatoolbox as rsa\n",
    "from scipy.linalg import sqrtm\n",
    "import nibabel as nb\n",
    "import numpy as np\n",
    "\n",
    "np.random.seed(7)\n"
   ]
  },
  {
   "cell_type": "markdown",
   "id": "b670f14a-6747-483e-a967-434e3e095729",
   "metadata": {},
   "source": [
    "Betas stored in .nii image files after SPM estimation can be loaded using nibabel.load() and then extracted as an i-by-j-by-k 3D tensor with the .get_fdata() method."
   ]
  },
  {
   "cell_type": "code",
   "execution_count": 50,
   "id": "e13acdea-55e9-4c19-b14b-ab1868f1feb2",
   "metadata": {},
   "outputs": [],
   "source": [
    "# betas = nb.load('path/to/glmDir/beta_0001.nii')"
   ]
  },
  {
   "cell_type": "markdown",
   "id": "874178f9-398f-4e19-880f-dd46b3f81456",
   "metadata": {},
   "source": [
    "Alternatively, you can load betas from a specific region of interest (ROI) using world coordinates (x, y, z) with nitools.sample_image(). This may help you save space on disk. In this case, betas from the desired locations are loaded as a vector."
   ]
  },
  {
   "cell_type": "code",
   "execution_count": 51,
   "id": "8fbc5813-53a2-4018-bace-5c718433aa3c",
   "metadata": {},
   "outputs": [],
   "source": [
    "# betas = nt.sample_image('path/to/glmDir/beta_0001.nii', x, y, z)"
   ]
  },
  {
   "cell_type": "markdown",
   "id": "9703a771-2c81-4ccb-97c7-8590053a7fd5",
   "metadata": {},
   "source": [
    "Here, we will simulate a vector of betas similar to the output of nitools.sample_image()."
   ]
  },
  {
   "cell_type": "code",
   "execution_count": 47,
   "id": "adb866fd-2247-4b44-8c27-d7c3117e18c9",
   "metadata": {
    "ExecuteTime": {
     "end_time": "2024-05-19T02:13:23.656614Z",
     "start_time": "2024-05-19T02:13:23.654551Z"
    }
   },
   "outputs": [],
   "source": [
    "betas = np.random.random(size=(1000,))"
   ]
  },
  {
   "cell_type": "markdown",
   "id": "2cc847dd-4d21-43ff-b508-81e51979a5de",
   "metadata": {},
   "source": [
    "Univariate pre-whitening involves normalizing the activity estimated in each voxel by the standard deviation of its residuals. SPM stores the residual mean squares in the ResMS.nii file in the same directory as the beta_XXXX.nii files. You can load them using nibabel.load('path/to/glmDir/ResMS.nii').get_fdata() or nitools.sample_image(). Here, we will simulate a vector of mean squares as done for the betas."
   ]
  },
  {
   "cell_type": "code",
   "execution_count": 48,
   "id": "17b2b486-2ae5-4808-bad2-66dbb03c1408",
   "metadata": {
    "ExecuteTime": {
     "end_time": "2024-05-19T02:13:26.296097Z",
     "start_time": "2024-05-19T02:13:24.454095Z"
    }
   },
   "outputs": [],
   "source": [
    "# load residual mean square\n",
    "ResMS = np.random.random(size=(1000,))"
   ]
  },
  {
   "cell_type": "markdown",
   "id": "92a7c34e-3f6e-4892-89ce-20f58a4b31b7",
   "metadata": {},
   "source": [
    "To pre-whitening our betas, we now need to divide our betas by the square root of ResMS."
   ]
  },
  {
   "cell_type": "code",
   "execution_count": 41,
   "id": "671e932c-50cd-47ee-b1f2-b63cff5558ee",
   "metadata": {},
   "outputs": [],
   "source": [
    "betas_prewhitened = betas / np.sqrt(ResMS)"
   ]
  },
  {
   "cell_type": "markdown",
   "id": "6962e3f1-1abe-4f3e-ae64-a6c4591f5f0d",
   "metadata": {},
   "source": [
    "Calculating the euclidean distances between patterns of prewhitened betas is equal to computing the mahalanobis distance using the (diagonalized) inverse of ResMS instead of the covariance matrix. We can do this as a sanity check that the prewhitening was performed correctly. Let's first define a set of 5 betas each from a different condition."
   ]
  },
  {
   "cell_type": "code",
   "execution_count": 42,
   "id": "875686dd-03f0-476f-9ba0-dbe06436b9a0",
   "metadata": {},
   "outputs": [],
   "source": [
    "betas = np.random.random(size=(5, 1000,))\n",
    "betas_prewhitened = betas / np.sqrt(ResMS)\n",
    "nCond = betas_prewhitened.shape[0]"
   ]
  },
  {
   "cell_type": "markdown",
   "id": "bf9867ed-1c65-4f0a-8636-19bf09fb792b",
   "metadata": {},
   "source": [
    "We will now use the rsatoolbox to calculate the multivariate distances between conditions. First need to define a dataset object with the non-prewhitened and prewhitened betas"
   ]
  },
  {
   "cell_type": "code",
   "execution_count": 43,
   "id": "0cd3f019-641b-4d3a-a738-9af34703bdad",
   "metadata": {},
   "outputs": [],
   "source": [
    "# create a dataset object\n",
    "nVox = betas_prewhitened.shape[1]\n",
    "des = {'session': 1, 'subj': 1}\n",
    "obs_des = {'conds': np.array(['cond_%02d' % x for x in np.arange(nCond)])}\n",
    "chn_des = {'voxels': np.array(['voxel_' + str(x) for x in np.arange(nVox)])}\n",
    "\n",
    "# non-prewhitened dataset object\n",
    "dataset = rsa.data.Dataset(measurements=betas,\n",
    "                   descriptors=des,\n",
    "                   obs_descriptors=obs_des,\n",
    "                   channel_descriptors=chn_des)\n",
    "\n",
    "# prewhitened dataset object\n",
    "dataset_prewhitened = rsa.data.Dataset(measurements=betas_prewhitened,\n",
    "                   descriptors=des,\n",
    "                   obs_descriptors=obs_des,\n",
    "                   channel_descriptors=chn_des)"
   ]
  },
  {
   "cell_type": "markdown",
   "id": "0f4885b3-9513-448c-ab79-d128003f475e",
   "metadata": {},
   "source": [
    "Now we calculate the euclidean distances between prewhitened betas using the calc_rdm function in the rsatoolbox."
   ]
  },
  {
   "cell_type": "code",
   "execution_count": 44,
   "id": "040cbcc2-9e61-46e8-9d51-8cbe997c7e1f",
   "metadata": {
    "ExecuteTime": {
     "end_time": "2024-05-19T02:13:27.239305Z",
     "start_time": "2024-05-19T02:13:27.235438Z"
    }
   },
   "outputs": [
    {
     "name": "stdout",
     "output_type": "stream",
     "text": [
      "[[[0.         1.08975407 1.17226038 0.92475594 1.15762617]\n",
      "  [1.08975407 0.         1.06488425 0.93402951 0.93152588]\n",
      "  [1.17226038 1.06488425 0.         1.15108832 1.38364892]\n",
      "  [0.92475594 0.93402951 1.15108832 0.         0.99174954]\n",
      "  [1.15762617 0.93152588 1.38364892 0.99174954 0.        ]]]\n"
     ]
    }
   ],
   "source": [
    "# calculate euclidean distance between conditions\n",
    "dist_eucl = rsa.rdm.calc_rdm(dataset_prewhitened, method='euclidean', descriptor='conds')\n",
    "print(dist_eucl.get_matrices())"
   ]
  },
  {
   "cell_type": "markdown",
   "id": "044f5e94-da66-414e-994c-ce685d8169b4",
   "metadata": {},
   "source": [
    "Then, we calculate the mahalanobis distance between non-prewhitened betas using the inverse of residual mean square in the noise argument. To do this, we need first to diagonalize the residual mean squares vector into a matrix."
   ]
  },
  {
   "cell_type": "code",
   "execution_count": 52,
   "id": "8f5246ac-d0f8-4c91-862d-1963d4ebffc8",
   "metadata": {
    "ExecuteTime": {
     "end_time": "2024-05-19T02:13:27.865343Z",
     "start_time": "2024-05-19T02:13:27.812468Z"
    }
   },
   "outputs": [
    {
     "ename": "AttributeError",
     "evalue": "measurements must be in dimension n_obs x n_channel",
     "output_type": "error",
     "traceback": [
      "\u001b[0;31m---------------------------------------------------------------------------\u001b[0m",
      "\u001b[0;31mAttributeError\u001b[0m                            Traceback (most recent call last)",
      "Cell \u001b[0;32mIn[52], line 5\u001b[0m\n\u001b[1;32m      2\u001b[0m cov \u001b[38;5;241m=\u001b[39m np\u001b[38;5;241m.\u001b[39mdiag(ResMS)\n\u001b[1;32m      4\u001b[0m \u001b[38;5;66;03m# calculate mahalanobis distance between conditions\u001b[39;00m\n\u001b[0;32m----> 5\u001b[0m dataset \u001b[38;5;241m=\u001b[39m \u001b[43mrsa\u001b[49m\u001b[38;5;241;43m.\u001b[39;49m\u001b[43mdata\u001b[49m\u001b[38;5;241;43m.\u001b[39;49m\u001b[43mDataset\u001b[49m\u001b[43m(\u001b[49m\u001b[43mmeasurements\u001b[49m\u001b[38;5;241;43m=\u001b[39;49m\u001b[43mbetas\u001b[49m\u001b[43m,\u001b[49m\n\u001b[1;32m      6\u001b[0m \u001b[43m                   \u001b[49m\u001b[43mdescriptors\u001b[49m\u001b[38;5;241;43m=\u001b[39;49m\u001b[43mdes\u001b[49m\u001b[43m,\u001b[49m\n\u001b[1;32m      7\u001b[0m \u001b[43m                   \u001b[49m\u001b[43mobs_descriptors\u001b[49m\u001b[38;5;241;43m=\u001b[39;49m\u001b[43mobs_des\u001b[49m\u001b[43m,\u001b[49m\n\u001b[1;32m      8\u001b[0m \u001b[43m                   \u001b[49m\u001b[43mchannel_descriptors\u001b[49m\u001b[38;5;241;43m=\u001b[39;49m\u001b[43mchn_des\u001b[49m\u001b[43m)\u001b[49m\n\u001b[1;32m      9\u001b[0m dist_maha \u001b[38;5;241m=\u001b[39m rsa\u001b[38;5;241m.\u001b[39mrdm\u001b[38;5;241m.\u001b[39mcalc_rdm(dataset, method\u001b[38;5;241m=\u001b[39m\u001b[38;5;124m'\u001b[39m\u001b[38;5;124mmahalanobis\u001b[39m\u001b[38;5;124m'\u001b[39m, descriptor\u001b[38;5;241m=\u001b[39m\u001b[38;5;124m'\u001b[39m\u001b[38;5;124mconds\u001b[39m\u001b[38;5;124m'\u001b[39m, noise\u001b[38;5;241m=\u001b[39mnp\u001b[38;5;241m.\u001b[39mlinalg\u001b[38;5;241m.\u001b[39minv(cov))\n\u001b[1;32m     10\u001b[0m \u001b[38;5;28mprint\u001b[39m(dist_maha\u001b[38;5;241m.\u001b[39mget_matrices())\n",
      "File \u001b[0;32m~/Documents/GitHub/sensori-motor-prediction/smp0/venv/lib/python3.11/site-packages/rsatoolbox/data/base.py:35\u001b[0m, in \u001b[0;36mDatasetBase.__init__\u001b[0;34m(self, measurements, descriptors, obs_descriptors, channel_descriptors, check_dims)\u001b[0m\n\u001b[1;32m     31\u001b[0m \u001b[38;5;28;01mdef\u001b[39;00m \u001b[38;5;21m__init__\u001b[39m(\u001b[38;5;28mself\u001b[39m, measurements, descriptors\u001b[38;5;241m=\u001b[39m\u001b[38;5;28;01mNone\u001b[39;00m,\n\u001b[1;32m     32\u001b[0m              obs_descriptors\u001b[38;5;241m=\u001b[39m\u001b[38;5;28;01mNone\u001b[39;00m, channel_descriptors\u001b[38;5;241m=\u001b[39m\u001b[38;5;28;01mNone\u001b[39;00m,\n\u001b[1;32m     33\u001b[0m              check_dims\u001b[38;5;241m=\u001b[39m\u001b[38;5;28;01mTrue\u001b[39;00m):\n\u001b[1;32m     34\u001b[0m     \u001b[38;5;28;01mif\u001b[39;00m measurements\u001b[38;5;241m.\u001b[39mndim \u001b[38;5;241m!=\u001b[39m \u001b[38;5;241m2\u001b[39m:\n\u001b[0;32m---> 35\u001b[0m         \u001b[38;5;28;01mraise\u001b[39;00m \u001b[38;5;167;01mAttributeError\u001b[39;00m(\n\u001b[1;32m     36\u001b[0m             \u001b[38;5;124m\"\u001b[39m\u001b[38;5;124mmeasurements must be in dimension n_obs x n_channel\u001b[39m\u001b[38;5;124m\"\u001b[39m)\n\u001b[1;32m     37\u001b[0m     \u001b[38;5;28mself\u001b[39m\u001b[38;5;241m.\u001b[39mmeasurements \u001b[38;5;241m=\u001b[39m measurements\n\u001b[1;32m     38\u001b[0m     \u001b[38;5;28mself\u001b[39m\u001b[38;5;241m.\u001b[39mn_obs, \u001b[38;5;28mself\u001b[39m\u001b[38;5;241m.\u001b[39mn_channel \u001b[38;5;241m=\u001b[39m \u001b[38;5;28mself\u001b[39m\u001b[38;5;241m.\u001b[39mmeasurements\u001b[38;5;241m.\u001b[39mshape\n",
      "\u001b[0;31mAttributeError\u001b[0m: measurements must be in dimension n_obs x n_channel"
     ]
    }
   ],
   "source": [
    "# diagonalize ResMS\n",
    "cov = np.diag(ResMS)\n",
    "\n",
    "# calculate mahalanobis distance between conditions\n",
    "dataset = rsa.data.Dataset(measurements=betas,\n",
    "                   descriptors=des,\n",
    "                   obs_descriptors=obs_des,\n",
    "                   channel_descriptors=chn_des)\n",
    "dist_maha = rsa.rdm.calc_rdm(dataset, method='mahalanobis', descriptor='conds', noise=np.linalg.inv(cov))\n",
    "print(dist_maha.get_matrices())"
   ]
  },
  {
   "cell_type": "markdown",
   "id": "173b6460-0726-4779-b10b-4c3845be3399",
   "metadata": {},
   "source": [
    "The two representational similarity matrices are numerically identical as expected."
   ]
  },
  {
   "cell_type": "markdown",
   "id": "b428e8e1-b94c-4deb-986a-709101e6617f",
   "metadata": {},
   "source": [
    "## References\n",
    "\n",
    "Walther, A., Nili, H., Ejaz, N., Alink, A., Kriegeskorte, N., & Diedrichsen, J. (2016). *Reliability of dissimilarity measures for multi-voxel pattern analysis.* NeuroImage, 137, 188–200. "
   ]
  },
  {
   "cell_type": "code",
   "execution_count": null,
   "id": "89c086fe-c9fa-44b0-9abc-6176128e90e4",
   "metadata": {},
   "outputs": [],
   "source": []
  }
 ],
 "metadata": {
  "kernelspec": {
   "display_name": "Python 3 (ipykernel)",
   "language": "python",
   "name": "python3"
  },
  "language_info": {
   "codemirror_mode": {
    "name": "ipython",
    "version": 3
   },
   "file_extension": ".py",
   "mimetype": "text/x-python",
   "name": "python",
   "nbconvert_exporter": "python",
   "pygments_lexer": "ipython3",
   "version": "3.11.3"
  }
 },
 "nbformat": 4,
 "nbformat_minor": 5
}
