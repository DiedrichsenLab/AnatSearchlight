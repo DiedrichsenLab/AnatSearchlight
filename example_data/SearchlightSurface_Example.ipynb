{
 "cells": [
  {
   "cell_type": "markdown",
   "id": "27977b1b",
   "metadata": {},
   "source": [
    "## Example of a Surface-based searchlight"
   ]
  },
  {
   "cell_type": "code",
   "execution_count": null,
   "id": "c6ea7628",
   "metadata": {},
   "outputs": [],
   "source": [
    "import AnatSearchlight.searchlight as sl\n",
    "import numpy as np\n",
    "import nibabel as nib"
   ]
  },
  {
   "cell_type": "code",
   "execution_count": null,
   "id": "fafee176",
   "metadata": {},
   "outputs": [],
   "source": [
    "# Define the MVPA function that will be used in the searchlight\n",
    "def mvpa_mean_function(data):\n",
    "    # Example of MVPA function that returns a scalar as an output argument\n",
    "    return np.mean(data)\n",
    "\n",
    "def mvpa_multi_function(data):\n",
    "    # Example of MVPA function that returns a vector as an output argument\n",
    "    return np.mean(data,axis=1)\n"
   ]
  }
 ],
 "metadata": {
  "kernelspec": {
   "display_name": "base",
   "language": "python",
   "name": "python3"
  },
  "language_info": {
   "codemirror_mode": {
    "name": "ipython",
    "version": 3
   },
   "file_extension": ".py",
   "mimetype": "text/x-python",
   "name": "python",
   "nbconvert_exporter": "python",
   "pygments_lexer": "ipython3",
   "version": "3.9.5"
  }
 },
 "nbformat": 4,
 "nbformat_minor": 5
}
