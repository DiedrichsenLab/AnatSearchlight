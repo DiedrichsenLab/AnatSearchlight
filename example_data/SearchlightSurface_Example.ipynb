{
 "cells": [
  {
   "cell_type": "markdown",
   "id": "27977b1b",
   "metadata": {},
   "source": [
    "## Example of a Surface-based searchlight"
   ]
  },
  {
   "cell_type": "code",
   "execution_count": null,
   "id": "c6ea7628",
   "metadata": {},
   "outputs": [],
   "source": [
    "import AnatSearchlight.searchlight as sl\n",
    "import numpy as np\n",
    "import nibabel as nib"
   ]
  },
  {
   "cell_type": "markdown",
   "id": "99a52172",
   "metadata": {},
   "source": [
    "To define a searchlight we need a: \n",
    "\n",
    "* Pial Surface (individual)\n",
    "* Gray Matter Mask (individual)\n",
    "* Functional mask image (mask.nii from GLM) telling us which voxels are availabe for searchlight analysis\n",
    "\n",
    "If we want to calculate the searchlight only for a part of a the surface, we can use a roi_specification (i.e. excluding the medial wall). \n",
    "\n",
    "The searchlight can be specified to have a specific radius in mm (on the surface) or a specific number of voxels. \n"
   ]
  },
  {
   "cell_type": "code",
   "execution_count": null,
   "id": "f042c110",
   "metadata": {},
   "outputs": [],
   "source": [
    "# Give it an appropriate structure name: Used for generating cifti-files for output\n",
    "mySearchlight = sl.SearchlightSurface('left_cortex')\n",
    "# These are the inndividual surfaces\n",
    "surf = ['example_data/sub-02_space-32k_hemi-L_pial.surf.gii',\n",
    "        'example_data/sub-02_space-32k_hemi-L_white.surf.gii']\n",
    "# This is the mask image for the functional data space\n",
    "voxel_mask = 'example_data/sub-02_ses-s1_mask.nii'\n",
    "\n",
    "# Optionally, you can define a roi-mask for the searchlight region on the surface. Centers outside of the mask will be ignored.\n",
    "# Instead of a gifti-image you can also use a numpy array with the indices of the vertices that should be included in the searchlight.\n",
    "roi_mask = 'example_data/tpl-fs32k_hemi-L_mask.label.gii'\n",
    "\n",
    "# Here we defining\n",
    "mySearchlight.define(surf,voxel_mask,roi=roi_mask,radius=20,nvoxels=None)\n",
    "mySearchlight.save('example_data/searchlight_surf.h5')\n"
   ]
  },
  {
   "cell_type": "code",
   "execution_count": null,
   "id": "80ab5dcb",
   "metadata": {},
   "outputs": [],
   "source": [
    "# You can now use the pre-computed searchlight.\n",
    "\n",
    "mySearchlight = sl.load('searchlight_surf.h5')\n",
    "print(mySearchlight)"
   ]
  },
  {
   "cell_type": "code",
   "execution_count": null,
   "id": "fafee176",
   "metadata": {},
   "outputs": [],
   "source": [
    "# Define the MVPA function that will be used in the searchlight\n",
    "# The functions take a n_images x n_voxels array as input.\n",
    "# and return either a scalar or vector as output.\n",
    "# Here we use simple example that calculate the mean activity in the searchlight region.\n",
    "def mvpa_mean_function(data):\n",
    "    # Example of MVPA function that returns a scalar as an output argument\n",
    "    return np.mean(data)\n",
    "\n",
    "def mvpa_multi_function(data):\n",
    "    # Example of MVPA function that returns a vector as an output argument\n",
    "    return np.mean(data,axis=1)\n"
   ]
  }
 ],
 "metadata": {
  "kernelspec": {
   "display_name": "base",
   "language": "python",
   "name": "python3"
  },
  "language_info": {
   "codemirror_mode": {
    "name": "ipython",
    "version": 3
   },
   "file_extension": ".py",
   "mimetype": "text/x-python",
   "name": "python",
   "nbconvert_exporter": "python",
   "pygments_lexer": "ipython3",
   "version": "3.9.5"
  }
 },
 "nbformat": 4,
 "nbformat_minor": 5
}
