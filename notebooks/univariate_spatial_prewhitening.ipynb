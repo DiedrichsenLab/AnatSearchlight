{
 "cells": [
  {
   "cell_type": "markdown",
   "id": "697c9af7",
   "metadata": {
    "collapsed": false,
    "jupyter": {
     "outputs_hidden": false
    }
   },
   "source": [
    "This Jupyter Noteboox shows how to perform spatial univariate pre-whitening of GLM coefficients using the mean residual sums of squares (ResMS) output by SPM after GLM estimation. "
   ]
  },
  {
   "cell_type": "code",
   "execution_count": 1,
   "id": "31083f27-bce4-414c-9e68-1b9949b5ee50",
   "metadata": {
    "ExecuteTime": {
     "end_time": "2024-05-19T02:13:23.247149Z",
     "start_time": "2024-05-19T02:13:23.245012Z"
    }
   },
   "outputs": [],
   "source": [
    "# relevant imports\n",
    "import numpy as np\n",
    "import rsatoolbox as rsa\n",
    "from scipy.linalg import sqrtm\n",
    "import nibabel as nb\n",
    "\n",
    "np.random.seed(7)\n"
   ]
  },
  {
   "cell_type": "markdown",
   "id": "b670f14a-6747-483e-a967-434e3e095729",
   "metadata": {},
   "source": [
    "GLM parameters (betas) stored in .nii image files after SPM estimation can be loaded using nibabel.load() and then extracted as an i-by-j-by-k 3D tensor with the .get_fdata() method."
   ]
  },
  {
   "cell_type": "raw",
   "id": "55af6e9d-65c4-4a9f-846c-72e85f3cf83f",
   "metadata": {},
   "source": [
    "betas = nb.load('path/to/glmDir/beta_0001.nii')"
   ]
  },
  {
   "cell_type": "markdown",
   "id": "874178f9-398f-4e19-880f-dd46b3f81456",
   "metadata": {},
   "source": [
    "Alternatively, you can load betas from a specific ROI using world coordinates with nitools.sample_image(). This may help you save space of disk. In this case, betas from the desired locations are stored as a vector."
   ]
  },
  {
   "cell_type": "raw",
   "id": "c0ab716a-6475-4d81-b61e-45d1d5761f69",
   "metadata": {},
   "source": [
    "betas = nt.sample_image('path/to/glmDir/beta_0001', x, y, z)"
   ]
  },
  {
   "cell_type": "markdown",
   "id": "9703a771-2c81-4ccb-97c7-8590053a7fd5",
   "metadata": {},
   "source": [
    "Here, we will simulate a vector of betas similar to the output of nitools.sample_image()."
   ]
  },
  {
   "cell_type": "code",
   "execution_count": 7,
   "id": "adb866fd-2247-4b44-8c27-d7c3117e18c9",
   "metadata": {
    "ExecuteTime": {
     "end_time": "2024-05-19T02:13:23.656614Z",
     "start_time": "2024-05-19T02:13:23.654551Z"
    }
   },
   "outputs": [],
   "source": [
    "betas = np.random.random(size=(1000,))"
   ]
  },
  {
   "cell_type": "markdown",
   "id": "2cc847dd-4d21-43ff-b508-81e51979a5de",
   "metadata": {},
   "source": [
    "Univariate pre-whitening involves normalizing the activity estimated in each voxel by the standard deviation of its residuals. SPM stores the residual mean squares in the ResMS.nii file in the same directory as the beta_XXXX.nii files. You can load them using nibabel.load('path/to/glmDir/ResMS.nii').get_fdata() or nitools.sample_image(). Here, we will simulate a vector of mean squares as done for the betas."
   ]
  },
  {
   "cell_type": "code",
   "execution_count": 8,
   "id": "17b2b486-2ae5-4808-bad2-66dbb03c1408",
   "metadata": {
    "ExecuteTime": {
     "end_time": "2024-05-19T02:13:26.296097Z",
     "start_time": "2024-05-19T02:13:24.454095Z"
    }
   },
   "outputs": [],
   "source": [
    "# load residual mean square\n",
    "ResMS = np.random.random(size=(1000,))"
   ]
  },
  {
   "cell_type": "markdown",
   "id": "92a7c34e-3f6e-4892-89ce-20f58a4b31b7",
   "metadata": {},
   "source": [
    "To pre-whitening our betas, we now need to divide our betas by the square root of the residual mean squares."
   ]
  },
  {
   "cell_type": "code",
   "execution_count": null,
   "id": "671e932c-50cd-47ee-b1f2-b63cff5558ee",
   "metadata": {},
   "outputs": [],
   "source": [
    "betas_prewhitened = betas / np.sqrt(resMS))"
   ]
  },
  {
   "cell_type": "code",
   "execution_count": 16,
   "id": "58de80be-e767-4338-980d-6d4ac1df957b",
   "metadata": {
    "ExecuteTime": {
     "end_time": "2024-05-19T02:13:26.305551Z",
     "start_time": "2024-05-19T02:13:26.302710Z"
    }
   },
   "outputs": [],
   "source": [
    "# create a dataset object\n",
    "nCond = betas_prewhitened.shape[0]\n",
    "nVox = betas_prewhitened.shape[1]\n",
    "# now create a dataset object\n",
    "des = {'session': 1, 'subj': 1}\n",
    "obs_des = {'conds': np.array(['cond_%02d' % x for x in np.arange(nCond)])}\n",
    "chn_des = {'voxels': np.array(['voxel_' + str(x) for x in np.arange(nVox)])}\n",
    "dataset = rsa.data.Dataset(measurements=betas_prewhitened,\n",
    "                   descriptors=des,\n",
    "                   obs_descriptors=obs_des,\n",
    "                   channel_descriptors=chn_des)"
   ]
  },
  {
   "cell_type": "code",
   "execution_count": 17,
   "id": "040cbcc2-9e61-46e8-9d51-8cbe997c7e1f",
   "metadata": {
    "ExecuteTime": {
     "end_time": "2024-05-19T02:13:27.239305Z",
     "start_time": "2024-05-19T02:13:27.235438Z"
    }
   },
   "outputs": [
    {
     "name": "stdout",
     "output_type": "stream",
     "text": [
      "[[[    0.         19372.9029699  60465.35760982 11656.86534238\n",
      "   17456.97377556]\n",
      "  [19372.9029699      0.         14103.29222431  6459.20833199\n",
      "    8810.56894998]\n",
      "  [60465.35760982 14103.29222431     0.         22045.50967413\n",
      "   18823.00223702]\n",
      "  [11656.86534238  6459.20833199 22045.50967413     0.\n",
      "     913.96644474]\n",
      "  [17456.97377556  8810.56894998 18823.00223702   913.96644474\n",
      "       0.        ]]]\n"
     ]
    }
   ],
   "source": [
    "# calculate euclidean distance between conditions\n",
    "dist = rsa.rdm.calc_rdm(dataset, method='euclidean', descriptor='conds')\n",
    "print(dist.get_matrices())"
   ]
  },
  {
   "cell_type": "code",
   "execution_count": 18,
   "id": "8f5246ac-d0f8-4c91-862d-1963d4ebffc8",
   "metadata": {
    "ExecuteTime": {
     "end_time": "2024-05-19T02:13:27.865343Z",
     "start_time": "2024-05-19T02:13:27.812468Z"
    }
   },
   "outputs": [
    {
     "name": "stdout",
     "output_type": "stream",
     "text": [
      "[[[    0.         19372.9029699  60465.35760982 11656.86534238\n",
      "   17456.97377556]\n",
      "  [19372.9029699      0.         14103.29222431  6459.20833199\n",
      "    8810.56894998]\n",
      "  [60465.35760982 14103.29222431     0.         22045.50967413\n",
      "   18823.00223702]\n",
      "  [11656.86534238  6459.20833199 22045.50967413     0.\n",
      "     913.96644474]\n",
      "  [17456.97377556  8810.56894998 18823.00223702   913.96644474\n",
      "       0.        ]]]\n"
     ]
    }
   ],
   "source": [
    "# diagonalize ResMS\n",
    "dataset = rsa.data.Dataset(measurements=betas,\n",
    "                   descriptors=des,\n",
    "                   obs_descriptors=obs_des,\n",
    "                   channel_descriptors=chn_des)\n",
    "dist = rsa.rdm.calc_rdm(dataset, method='mahalanobis', descriptor='conds', noise=np.linalg.inv(Cov))\n",
    "print(dist.get_matrices())"
   ]
  },
  {
   "cell_type": "code",
   "execution_count": null,
   "id": "21db3699-7129-4d50-8911-0270b24d772d",
   "metadata": {},
   "outputs": [],
   "source": []
  },
  {
   "cell_type": "code",
   "execution_count": null,
   "id": "822d20b6-aec2-451e-9d51-a6f8c3bcdabf",
   "metadata": {},
   "outputs": [],
   "source": []
  },
  {
   "cell_type": "code",
   "execution_count": null,
   "id": "40d2eff2-7e22-4341-8fd9-5fc9671e5c92",
   "metadata": {},
   "outputs": [],
   "source": []
  }
 ],
 "metadata": {
  "kernelspec": {
   "display_name": "Python 3 (ipykernel)",
   "language": "python",
   "name": "python3"
  },
  "language_info": {
   "codemirror_mode": {
    "name": "ipython",
    "version": 3
   },
   "file_extension": ".py",
   "mimetype": "text/x-python",
   "name": "python",
   "nbconvert_exporter": "python",
   "pygments_lexer": "ipython3",
   "version": "3.11.3"
  }
 },
 "nbformat": 4,
 "nbformat_minor": 5
}
