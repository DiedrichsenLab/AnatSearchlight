{
 "cells": [
  {
   "cell_type": "markdown",
   "id": "697c9af7",
   "metadata": {
    "collapsed": false,
    "jupyter": {
     "outputs_hidden": false
    }
   },
   "source": [
    "This Jupyter Noteboox shows how to perform spatial univariate pre-whitening of GLM coefficients using the residual mean of squares (ResMS) output by SPM after GLM estimation. "
   ]
  },
  {
   "cell_type": "code",
   "execution_count": 25,
   "id": "31083f27-bce4-414c-9e68-1b9949b5ee50",
   "metadata": {
    "ExecuteTime": {
     "end_time": "2024-05-19T02:13:23.247149Z",
     "start_time": "2024-05-19T02:13:23.245012Z"
    }
   },
   "outputs": [],
   "source": [
    "# relevant imports\n",
    "import numpy as np\n",
    "import rsatoolbox as rsa\n",
    "from scipy.linalg import sqrtm\n",
    "import nibabel as nb\n",
    "import numpy as np\n",
    "\n",
    "np.random.seed(7)\n"
   ]
  },
  {
   "cell_type": "markdown",
   "id": "b670f14a-6747-483e-a967-434e3e095729",
   "metadata": {},
   "source": [
    "GLM parameters (betas) stored in .nii image files after SPM estimation can be loaded using nibabel.load() and then extracted as an i-by-j-by-k 3D tensor with the .get_fdata() method."
   ]
  },
  {
   "cell_type": "code",
   "execution_count": 26,
   "id": "e13acdea-55e9-4c19-b14b-ab1868f1feb2",
   "metadata": {},
   "outputs": [],
   "source": [
    "# betas = nb.load('path/to/glmDir/beta_0001.nii')"
   ]
  },
  {
   "cell_type": "markdown",
   "id": "874178f9-398f-4e19-880f-dd46b3f81456",
   "metadata": {},
   "source": [
    "Alternatively, you can load betas from a specific ROI using world coordinates (x, y, z) with nitools.sample_image(). This may help you save space of disk. In this case, betas from the desired locations are stored as a vector."
   ]
  },
  {
   "cell_type": "code",
   "execution_count": 27,
   "id": "8fbc5813-53a2-4018-bace-5c718433aa3c",
   "metadata": {},
   "outputs": [],
   "source": [
    "# betas = nt.sample_image('path/to/glmDir/beta_0001.nii', x, y, z)"
   ]
  },
  {
   "cell_type": "markdown",
   "id": "9703a771-2c81-4ccb-97c7-8590053a7fd5",
   "metadata": {},
   "source": [
    "Here, we will simulate a vector of betas similar to the output of nitools.sample_image()."
   ]
  },
  {
   "cell_type": "code",
   "execution_count": 28,
   "id": "adb866fd-2247-4b44-8c27-d7c3117e18c9",
   "metadata": {
    "ExecuteTime": {
     "end_time": "2024-05-19T02:13:23.656614Z",
     "start_time": "2024-05-19T02:13:23.654551Z"
    }
   },
   "outputs": [],
   "source": [
    "betas = np.random.random(size=(1000,))"
   ]
  },
  {
   "cell_type": "markdown",
   "id": "2cc847dd-4d21-43ff-b508-81e51979a5de",
   "metadata": {},
   "source": [
    "Univariate pre-whitening involves normalizing the activity estimated in each voxel by the standard deviation of its residuals. SPM stores the residual mean squares in the ResMS.nii file in the same directory as the beta_XXXX.nii files. You can load them using nibabel.load('path/to/glmDir/ResMS.nii').get_fdata() or nitools.sample_image(). Here, we will simulate a vector of mean squares as done for the betas."
   ]
  },
  {
   "cell_type": "code",
   "execution_count": 29,
   "id": "17b2b486-2ae5-4808-bad2-66dbb03c1408",
   "metadata": {
    "ExecuteTime": {
     "end_time": "2024-05-19T02:13:26.296097Z",
     "start_time": "2024-05-19T02:13:24.454095Z"
    }
   },
   "outputs": [],
   "source": [
    "# load residual mean square\n",
    "ResMS = np.random.random(size=(1000,))"
   ]
  },
  {
   "cell_type": "markdown",
   "id": "92a7c34e-3f6e-4892-89ce-20f58a4b31b7",
   "metadata": {},
   "source": [
    "To pre-whitening our betas, we now need to divide our betas by the square root of the residual mean squares."
   ]
  },
  {
   "cell_type": "code",
   "execution_count": 30,
   "id": "671e932c-50cd-47ee-b1f2-b63cff5558ee",
   "metadata": {},
   "outputs": [],
   "source": [
    "betas_prewhitened = betas / np.sqrt(ResMS)"
   ]
  },
  {
   "cell_type": "markdown",
   "id": "6962e3f1-1abe-4f3e-ae64-a6c4591f5f0d",
   "metadata": {},
   "source": [
    "Calculating the euclidean distances between patterns of pre-whitened betas is equal to computing the mahalanobis distance using the residual mean squares instead of the covariance matrix. We can do as this as a sanity check that the pre-whitening was performed correctly. Let's first define a set of 5 betas each from a different condition."
   ]
  },
  {
   "cell_type": "code",
   "execution_count": 31,
   "id": "875686dd-03f0-476f-9ba0-dbe06436b9a0",
   "metadata": {},
   "outputs": [],
   "source": [
    "betas = np.random.random(size=(5, 1000,))\n",
    "betas_prewhitened = betas / np.sqrt(ResMS)\n",
    "nCond = betas_prewhitened.shape[0]"
   ]
  },
  {
   "cell_type": "markdown",
   "id": "bf9867ed-1c65-4f0a-8636-19bf09fb792b",
   "metadata": {},
   "source": [
    "We will now use the rsatoolbox to calculate the multivariate distances between conditions. First need to define a dataset object with the non-prewhitened and prewhitened betas"
   ]
  },
  {
   "cell_type": "code",
   "execution_count": 32,
   "id": "0cd3f019-641b-4d3a-a738-9af34703bdad",
   "metadata": {},
   "outputs": [],
   "source": [
    "# create a dataset object\n",
    "nVox = betas_prewhitened.shape[1]\n",
    "des = {'session': 1, 'subj': 1}\n",
    "obs_des = {'conds': np.array(['cond_%02d' % x for x in np.arange(nCond)])}\n",
    "chn_des = {'voxels': np.array(['voxel_' + str(x) for x in np.arange(nVox)])}\n",
    "\n",
    "# non-prewhitened dataset object\n",
    "dataset = rsa.data.Dataset(measurements=betas,\n",
    "                   descriptors=des,\n",
    "                   obs_descriptors=obs_des,\n",
    "                   channel_descriptors=chn_des)\n",
    "\n",
    "# prewhitened dataset object\n",
    "dataset_prewhitened = rsa.data.Dataset(measurements=betas_prewhitened,\n",
    "                   descriptors=des,\n",
    "                   obs_descriptors=obs_des,\n",
    "                   channel_descriptors=chn_des)"
   ]
  },
  {
   "cell_type": "markdown",
   "id": "0f4885b3-9513-448c-ab79-d128003f475e",
   "metadata": {},
   "source": [
    "Now we calculate the euclidean distances between prewhitened betas using the calc_rdm function in the rsatoolbox."
   ]
  },
  {
   "cell_type": "code",
   "execution_count": 33,
   "id": "040cbcc2-9e61-46e8-9d51-8cbe997c7e1f",
   "metadata": {
    "ExecuteTime": {
     "end_time": "2024-05-19T02:13:27.239305Z",
     "start_time": "2024-05-19T02:13:27.235438Z"
    }
   },
   "outputs": [
    {
     "name": "stdout",
     "output_type": "stream",
     "text": [
      "[[[0.         1.08975407 1.17226038 0.92475594 1.15762617]\n",
      "  [1.08975407 0.         1.06488425 0.93402951 0.93152588]\n",
      "  [1.17226038 1.06488425 0.         1.15108832 1.38364892]\n",
      "  [0.92475594 0.93402951 1.15108832 0.         0.99174954]\n",
      "  [1.15762617 0.93152588 1.38364892 0.99174954 0.        ]]]\n"
     ]
    }
   ],
   "source": [
    "# calculate euclidean distance between conditions\n",
    "dist_eucl = rsa.rdm.calc_rdm(dataset_prewhitened, method='euclidean', descriptor='conds')\n",
    "print(dist.get_matrices())"
   ]
  },
  {
   "cell_type": "markdown",
   "id": "044f5e94-da66-414e-994c-ce685d8169b4",
   "metadata": {},
   "source": [
    "And the mahalanobis distance between non-prewhitened betas using the inverse of residual mean square in the noise argument. To do this, we need first to diagonalize the residual mean squares vector into a matrix."
   ]
  },
  {
   "cell_type": "code",
   "execution_count": 34,
   "id": "8f5246ac-d0f8-4c91-862d-1963d4ebffc8",
   "metadata": {
    "ExecuteTime": {
     "end_time": "2024-05-19T02:13:27.865343Z",
     "start_time": "2024-05-19T02:13:27.812468Z"
    }
   },
   "outputs": [
    {
     "name": "stdout",
     "output_type": "stream",
     "text": [
      "[[[0.         1.08975407 1.17226038 0.92475594 1.15762617]\n",
      "  [1.08975407 0.         1.06488425 0.93402951 0.93152588]\n",
      "  [1.17226038 1.06488425 0.         1.15108832 1.38364892]\n",
      "  [0.92475594 0.93402951 1.15108832 0.         0.99174954]\n",
      "  [1.15762617 0.93152588 1.38364892 0.99174954 0.        ]]]\n"
     ]
    }
   ],
   "source": [
    "# diagonalize ResMS\n",
    "cov = np.diag(ResMS)\n",
    "\n",
    "# calculate mahalanobis distance between conditions\n",
    "dataset = rsa.data.Dataset(measurements=betas,\n",
    "                   descriptors=des,\n",
    "                   obs_descriptors=obs_des,\n",
    "                   channel_descriptors=chn_des)\n",
    "dist_ = rsa.rdm.calc_rdm(dataset, method='mahalanobis', descriptor='conds', noise=np.linalg.inv(cov))\n",
    "print(dist.get_matrices())"
   ]
  },
  {
   "cell_type": "markdown",
   "id": "173b6460-0726-4779-b10b-4c3845be3399",
   "metadata": {},
   "source": [
    "The two representational similarity matrices are numerically identical as expected."
   ]
  },
  {
   "cell_type": "code",
   "execution_count": null,
   "id": "1f49e554-8d04-47e8-960d-756b1e161232",
   "metadata": {},
   "outputs": [],
   "source": []
  }
 ],
 "metadata": {
  "kernelspec": {
   "display_name": "Python 3 (ipykernel)",
   "language": "python",
   "name": "python3"
  },
  "language_info": {
   "codemirror_mode": {
    "name": "ipython",
    "version": 3
   },
   "file_extension": ".py",
   "mimetype": "text/x-python",
   "name": "python",
   "nbconvert_exporter": "python",
   "pygments_lexer": "ipython3",
   "version": "3.11.3"
  }
 },
 "nbformat": 4,
 "nbformat_minor": 5
}
