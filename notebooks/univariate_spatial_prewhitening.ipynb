{
 "cells": [
  {
   "cell_type": "markdown",
   "id": "196aa90e-3438-4c0c-bcb9-103d5d38e6d0",
   "metadata": {},
   "source": [
    "This Jupyter Noteboox shows how perform spatial univariate pre-whitening of GLM coefficients using the mean residual sums of squares (ResMS) output by SPM after GLM estimation. "
   ]
  },
  {
   "cell_type": "code",
   "execution_count": 13,
   "id": "31083f27-bce4-414c-9e68-1b9949b5ee50",
   "metadata": {
    "ExecuteTime": {
     "end_time": "2024-05-19T02:13:23.247149Z",
     "start_time": "2024-05-19T02:13:23.245012Z"
    }
   },
   "outputs": [],
   "source": [
    "# relevant imports\n",
    "import numpy as np\n",
    "import rsatoolbox as rsa\n",
    "from scipy.linalg import sqrtm\n",
    "\n",
    "np.random.seed(7)\n"
   ]
  },
  {
   "cell_type": "code",
   "execution_count": 14,
   "id": "adb866fd-2247-4b44-8c27-d7c3117e18c9",
   "metadata": {
    "ExecuteTime": {
     "end_time": "2024-05-19T02:13:23.656614Z",
     "start_time": "2024-05-19T02:13:23.654551Z"
    }
   },
   "outputs": [],
   "source": [
    "# create a dataset object\n",
    "betas = np.random.random(size=(5, 1000))"
   ]
  },
  {
   "cell_type": "markdown",
   "id": "2cc847dd-4d21-43ff-b508-81e51979a5de",
   "metadata": {},
   "source": [
    "Univariate pre-whitening involves normalizing the activity estimated in each voxel by the standard deviation of its residuals."
   ]
  },
  {
   "cell_type": "code",
   "execution_count": 15,
   "id": "17b2b486-2ae5-4808-bad2-66dbb03c1408",
   "metadata": {
    "ExecuteTime": {
     "end_time": "2024-05-19T02:13:26.296097Z",
     "start_time": "2024-05-19T02:13:24.454095Z"
    }
   },
   "outputs": [
    {
     "name": "stdout",
     "output_type": "stream",
     "text": [
      "[[0.17323278 0.         0.         ... 0.         0.         0.        ]\n",
      " [0.         0.03240478 0.         ... 0.         0.         0.        ]\n",
      " [0.         0.         0.04275271 ... 0.         0.         0.        ]\n",
      " ...\n",
      " [0.         0.         0.         ... 0.20785234 0.         0.        ]\n",
      " [0.         0.         0.         ... 0.         0.84349214 0.        ]\n",
      " [0.         0.         0.         ... 0.         0.         0.17670256]]\n"
     ]
    }
   ],
   "source": [
    "# load residual mean square\n",
    "Cov = np.random.random(size=(1000,))  # mock covariance matrix\n",
    "Cov = np.diag(Cov)\n",
    "Cov = np.dot(Cov, Cov.T)  # Ensures the matrix is positive definite\n",
    "print(Cov)\n",
    "betas_prewhitened = np.matmul(betas, np.linalg.inv(sqrtm(Cov)))"
   ]
  },
  {
   "cell_type": "code",
   "execution_count": 16,
   "id": "58de80be-e767-4338-980d-6d4ac1df957b",
   "metadata": {
    "ExecuteTime": {
     "end_time": "2024-05-19T02:13:26.305551Z",
     "start_time": "2024-05-19T02:13:26.302710Z"
    }
   },
   "outputs": [],
   "source": [
    "# create a dataset object\n",
    "nCond = betas_prewhitened.shape[0]\n",
    "nVox = betas_prewhitened.shape[1]\n",
    "# now create a dataset object\n",
    "des = {'session': 1, 'subj': 1}\n",
    "obs_des = {'conds': np.array(['cond_%02d' % x for x in np.arange(nCond)])}\n",
    "chn_des = {'voxels': np.array(['voxel_' + str(x) for x in np.arange(nVox)])}\n",
    "dataset = rsa.data.Dataset(measurements=betas_prewhitened,\n",
    "                   descriptors=des,\n",
    "                   obs_descriptors=obs_des,\n",
    "                   channel_descriptors=chn_des)"
   ]
  },
  {
   "cell_type": "code",
   "execution_count": 17,
   "id": "040cbcc2-9e61-46e8-9d51-8cbe997c7e1f",
   "metadata": {
    "ExecuteTime": {
     "end_time": "2024-05-19T02:13:27.239305Z",
     "start_time": "2024-05-19T02:13:27.235438Z"
    }
   },
   "outputs": [
    {
     "name": "stdout",
     "output_type": "stream",
     "text": [
      "[[[    0.         19372.9029699  60465.35760982 11656.86534238\n",
      "   17456.97377556]\n",
      "  [19372.9029699      0.         14103.29222431  6459.20833199\n",
      "    8810.56894998]\n",
      "  [60465.35760982 14103.29222431     0.         22045.50967413\n",
      "   18823.00223702]\n",
      "  [11656.86534238  6459.20833199 22045.50967413     0.\n",
      "     913.96644474]\n",
      "  [17456.97377556  8810.56894998 18823.00223702   913.96644474\n",
      "       0.        ]]]\n"
     ]
    }
   ],
   "source": [
    "# calculate euclidean distance between conditions\n",
    "dist = rsa.rdm.calc_rdm(dataset, method='euclidean', descriptor='conds')\n",
    "print(dist.get_matrices())"
   ]
  },
  {
   "cell_type": "code",
   "execution_count": 18,
   "id": "8f5246ac-d0f8-4c91-862d-1963d4ebffc8",
   "metadata": {
    "ExecuteTime": {
     "end_time": "2024-05-19T02:13:27.865343Z",
     "start_time": "2024-05-19T02:13:27.812468Z"
    }
   },
   "outputs": [
    {
     "name": "stdout",
     "output_type": "stream",
     "text": [
      "[[[    0.         19372.9029699  60465.35760982 11656.86534238\n",
      "   17456.97377556]\n",
      "  [19372.9029699      0.         14103.29222431  6459.20833199\n",
      "    8810.56894998]\n",
      "  [60465.35760982 14103.29222431     0.         22045.50967413\n",
      "   18823.00223702]\n",
      "  [11656.86534238  6459.20833199 22045.50967413     0.\n",
      "     913.96644474]\n",
      "  [17456.97377556  8810.56894998 18823.00223702   913.96644474\n",
      "       0.        ]]]\n"
     ]
    }
   ],
   "source": [
    "# diagonalize ResMS\n",
    "dataset = rsa.data.Dataset(measurements=betas,\n",
    "                   descriptors=des,\n",
    "                   obs_descriptors=obs_des,\n",
    "                   channel_descriptors=chn_des)\n",
    "dist = rsa.rdm.calc_rdm(dataset, method='mahalanobis', descriptor='conds', noise=np.linalg.inv(Cov))\n",
    "print(dist.get_matrices())"
   ]
  },
  {
   "cell_type": "code",
   "execution_count": null,
   "id": "21db3699-7129-4d50-8911-0270b24d772d",
   "metadata": {},
   "outputs": [],
   "source": []
  },
  {
   "cell_type": "code",
   "execution_count": null,
   "id": "822d20b6-aec2-451e-9d51-a6f8c3bcdabf",
   "metadata": {},
   "outputs": [],
   "source": []
  },
  {
   "cell_type": "code",
   "execution_count": null,
   "id": "40d2eff2-7e22-4341-8fd9-5fc9671e5c92",
   "metadata": {},
   "outputs": [],
   "source": []
  }
 ],
 "metadata": {
  "kernelspec": {
   "display_name": "Python 3 (ipykernel)",
   "language": "python",
   "name": "python3"
  },
  "language_info": {
   "codemirror_mode": {
    "name": "ipython",
    "version": 3
   },
   "file_extension": ".py",
   "mimetype": "text/x-python",
   "name": "python",
   "nbconvert_exporter": "python",
   "pygments_lexer": "ipython3",
   "version": "3.12.0"
  }
 },
 "nbformat": 4,
 "nbformat_minor": 5
}
