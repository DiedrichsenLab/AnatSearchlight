{
 "cells": [
  {
   "cell_type": "code",
   "execution_count": 96,
   "metadata": {},
   "outputs": [],
   "source": [
    "\n",
    "import nibabel as nb\n",
    "import importlib\n",
    "import sys\n",
    "import searchlight_test\n",
    "importlib.reload(searchlight_test)\n",
    "from searchlight_test import SurfaceSearchlight, readSurf\n",
    "\n",
    "#\n",
    "# reload readSurf\n"
   ]
  },
  {
   "cell_type": "code",
   "execution_count": 97,
   "metadata": {},
   "outputs": [],
   "source": [
    "pial_files = ['fs_LR.32k.L.pial.surf.gii','fs_LR.32k.R.pial.surf.gii']\n",
    "white_files = ['fs_LR.32k.L.white.surf.gii','fs_LR.32k.R.white.surf.gii']\n",
    "S = readSurf(white_files,pial_files)\n",
    "Mask = nb.load('mask.nii') # nifti\n",
    "\n",
    "white = [nb.gifti.GiftiImage.from_filename(f) for f in white_files]\n",
    "pial = [nb.gifti.GiftiImage.from_filename(f) for f in pial_files]\n"
   ]
  },
  {
   "cell_type": "code",
   "execution_count": 98,
   "metadata": {},
   "outputs": [],
   "source": [
    "## Inilialize the searchlight object\n",
    "SL = SurfaceSearchlight(S, Mask,sphere = [30, 160])\n"
   ]
  },
  {
   "cell_type": "code",
   "execution_count": 94,
   "metadata": {},
   "outputs": [],
   "source": [
    "white = np.vstack([S[0]['white'].data, S[1]['white'].data])\n",
    "pial = np.vstack([S[0]['pial'].data, S[1]['pial'].data])\n",
    "allcoords = surfing_nodeidxs2coords(white, pial, np.arange(SL.num_vert), linedef)\n",
    "unqlinvoxidxs = surfing_uniqueidxsperrow(alllinvoxidxs, Mask)"
   ]
  },
  {
   "cell_type": "code",
   "execution_count": 26,
   "metadata": {},
   "outputs": [
    {
     "data": {
      "text/plain": [
       "array([<GiftiDataArray pointset[32492, 3]>,\n",
       "       <GiftiDataArray pointset[32492, 3]>], dtype=object)"
      ]
     },
     "execution_count": 26,
     "metadata": {},
     "output_type": "execute_result"
    }
   ],
   "source": [
    "\n",
    "# I should make a numpy array with size of 32492*2 x 3\n",
    "np.vstack([surf['white'] for surf in S])\n",
    "\n"
   ]
  }
 ],
 "metadata": {
  "kernelspec": {
   "display_name": "ChatGPT",
   "language": "python",
   "name": "chatgpt"
  },
  "language_info": {
   "codemirror_mode": {
    "name": "ipython",
    "version": 3
   },
   "file_extension": ".py",
   "mimetype": "text/x-python",
   "name": "python",
   "nbconvert_exporter": "python",
   "pygments_lexer": "ipython3",
   "version": "3.10.13"
  }
 },
 "nbformat": 4,
 "nbformat_minor": 2
}
